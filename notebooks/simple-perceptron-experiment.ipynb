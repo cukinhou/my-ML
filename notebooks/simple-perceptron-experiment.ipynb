{
 "cells": [
  {
   "cell_type": "code",
   "execution_count": 2,
   "metadata": {
    "collapsed": false
   },
   "outputs": [],
   "source": [
    "from myML.classification.perceptron import Perceptron"
   ]
  },
  {
   "cell_type": "code",
   "execution_count": 7,
   "metadata": {
    "collapsed": true
   },
   "outputs": [],
   "source": [
    "train = [[2.7810836,2.550537003],\n",
    "[1.465489372,2.362125076],\n",
    "[3.396561688,4.400293529],\n",
    "[1.38807019,1.850220317],\n",
    "[3.06407232,3.005305973],\n",
    "[7.627531214,2.759262235],\n",
    "[5.332441248,2.088626775],\n",
    "[6.922596716,1.77106367],\n",
    "[8.675418651,-0.242068655],\n",
    "[7.673756466,3.508563011]]\n",
    "y_train =  [0, 0, 0, 0, 0, 1, 1, 1, 1, 1]"
   ]
  },
  {
   "cell_type": "code",
   "execution_count": 10,
   "metadata": {
    "collapsed": false
   },
   "outputs": [
    {
     "name": "stdout",
     "output_type": "stream",
     "text": [
      "Expected=0, Predicted=0\n",
      "Expected=0, Predicted=0\n",
      "Expected=0, Predicted=0\n",
      "Expected=0, Predicted=0\n",
      "Expected=0, Predicted=0\n",
      "Expected=1, Predicted=1\n",
      "Expected=1, Predicted=1\n",
      "Expected=1, Predicted=1\n",
      "Expected=1, Predicted=1\n",
      "Expected=1, Predicted=1\n"
     ]
    }
   ],
   "source": [
    "l_rate = 0.001\n",
    "n_epoch = 10000\n",
    "perceptron = Perceptron()\n",
    "perceptron.fit(train, y_train, l_rate, n_epoch)\n",
    "\n",
    "for row, y in zip(train, y_train):\n",
    "    prediction = perceptron.predict(row)\n",
    "    print(\"Expected=%d, Predicted=%d\" % (y, prediction))"
   ]
  }
 ],
 "metadata": {
  "kernelspec": {
   "display_name": "Python 2",
   "language": "python",
   "name": "python2"
  },
  "language_info": {
   "codemirror_mode": {
    "name": "ipython",
    "version": 2.0
   },
   "file_extension": ".py",
   "mimetype": "text/x-python",
   "name": "python",
   "nbconvert_exporter": "python",
   "pygments_lexer": "ipython2",
   "version": "2.7.12"
  }
 },
 "nbformat": 4,
 "nbformat_minor": 0
}